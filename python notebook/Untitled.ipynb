{
 "cells": [
  {
   "cell_type": "code",
   "execution_count": 1,
   "id": "2efe7fd0",
   "metadata": {
    "ExecuteTime": {
     "end_time": "2023-04-08T10:19:10.517462Z",
     "start_time": "2023-04-08T10:19:09.768911Z"
    }
   },
   "outputs": [],
   "source": [
    "from PIL import Image, ImageDraw\n",
    "\n",
    "# Load the image\n",
    "img = Image.open('images/italy, switzerland.jpg')\n",
    "\n",
    "# Create a new image with the same size and mode as the original\n",
    "lines_img = Image.new('RGBA', img.size, color=(255,255,255,0))\n",
    "# lines_img = Image.new(img.mode, img.size, color=(255))\n",
    "\n",
    "# Create a draw object\n",
    "draw = ImageDraw.Draw(lines_img)\n",
    "\n",
    "# Define the distance between vertical lines\n",
    "v_line_distance = 50\n",
    "\n",
    "# Draw vertical lines\n",
    "for x in range(30, img.width, v_line_distance):\n",
    "    draw.line((x, 0, x, img.height), fill=(0,0,0), width=2)\n",
    "\n",
    "# Define the distance between horizontal lines\n",
    "h_line_distance = 50\n",
    "\n",
    "# Draw horizontal lines\n",
    "for y in range(30, img.height, h_line_distance):\n",
    "    draw.line((0, y, img.width, y), fill=(0,0,0), width=2)\n",
    "\n",
    "# Merge the two images, with the lines image as the alpha layer\n",
    "merged_img = Image.alpha_composite(img.convert('RGBA'),lines_img.convert('RGBA'))\n",
    "merged_img\n",
    "# Show the image\n",
    "# merged_img.show()\n",
    "# lines_img.show()\n",
    "# merged_img.save('images/output.png')"
   ]
  },
  {
   "cell_type": "code",
   "execution_count": 34,
   "id": "1c1281cb",
   "metadata": {
    "ExecuteTime": {
     "end_time": "2023-02-28T16:19:23.646209Z",
     "start_time": "2023-02-28T16:19:20.260142Z"
    }
   },
   "outputs": [],
   "source": []
  },
  {
   "cell_type": "code",
   "execution_count": null,
   "id": "cc28a681",
   "metadata": {},
   "outputs": [],
   "source": []
  }
 ],
 "metadata": {
  "kernelspec": {
   "display_name": "Python 3 (ipykernel)",
   "language": "python",
   "name": "python3"
  },
  "language_info": {
   "codemirror_mode": {
    "name": "ipython",
    "version": 3
   },
   "file_extension": ".py",
   "mimetype": "text/x-python",
   "name": "python",
   "nbconvert_exporter": "python",
   "pygments_lexer": "ipython3",
   "version": "3.9.13"
  },
  "toc": {
   "base_numbering": 1,
   "nav_menu": {},
   "number_sections": true,
   "sideBar": true,
   "skip_h1_title": false,
   "title_cell": "Table of Contents",
   "title_sidebar": "Contents",
   "toc_cell": false,
   "toc_position": {},
   "toc_section_display": true,
   "toc_window_display": false
  },
  "varInspector": {
   "cols": {
    "lenName": 16,
    "lenType": 16,
    "lenVar": 40
   },
   "kernels_config": {
    "python": {
     "delete_cmd_postfix": "",
     "delete_cmd_prefix": "del ",
     "library": "var_list.py",
     "varRefreshCmd": "print(var_dic_list())"
    },
    "r": {
     "delete_cmd_postfix": ") ",
     "delete_cmd_prefix": "rm(",
     "library": "var_list.r",
     "varRefreshCmd": "cat(var_dic_list()) "
    }
   },
   "types_to_exclude": [
    "module",
    "function",
    "builtin_function_or_method",
    "instance",
    "_Feature"
   ],
   "window_display": false
  }
 },
 "nbformat": 4,
 "nbformat_minor": 5
}
