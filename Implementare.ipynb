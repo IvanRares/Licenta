{
 "cells": [
  {
   "cell_type": "code",
   "execution_count": 2,
   "id": "8b1a6136",
   "metadata": {
    "ExecuteTime": {
     "end_time": "2023-02-03T13:32:19.733656Z",
     "start_time": "2023-02-03T13:32:12.569294Z"
    }
   },
   "outputs": [
    {
     "name": "stdout",
     "output_type": "stream",
     "text": [
      "Collecting panda\n",
      "  Downloading panda-0.3.1.tar.gz (5.8 kB)\n",
      "  Preparing metadata (setup.py): started\n",
      "  Preparing metadata (setup.py): finished with status 'done'\n",
      "Requirement already satisfied: setuptools in c:\\users\\roman\\anaconda3\\lib\\site-packages (from panda) (63.4.1)\n",
      "Requirement already satisfied: requests in c:\\users\\roman\\anaconda3\\lib\\site-packages (from panda) (2.28.1)\n",
      "Requirement already satisfied: charset-normalizer<3,>=2 in c:\\users\\roman\\anaconda3\\lib\\site-packages (from requests->panda) (2.0.4)\n",
      "Requirement already satisfied: urllib3<1.27,>=1.21.1 in c:\\users\\roman\\anaconda3\\lib\\site-packages (from requests->panda) (1.26.11)\n",
      "Requirement already satisfied: idna<4,>=2.5 in c:\\users\\roman\\anaconda3\\lib\\site-packages (from requests->panda) (3.3)\n",
      "Requirement already satisfied: certifi>=2017.4.17 in c:\\users\\roman\\anaconda3\\lib\\site-packages (from requests->panda) (2022.9.14)\n",
      "Building wheels for collected packages: panda\n",
      "  Building wheel for panda (setup.py): started\n",
      "  Building wheel for panda (setup.py): finished with status 'done'\n",
      "  Created wheel for panda: filename=panda-0.3.1-py3-none-any.whl size=7238 sha256=8b90c6cfc38109363762f3a939889182eb912b80120f8477d9fb5848f41d84b6\n",
      "  Stored in directory: c:\\users\\roman\\appdata\\local\\pip\\cache\\wheels\\6c\\5a\\a9\\a28c87238ddcc61701224f538bedccc21c9e2b8bc6fa8fca0e\n",
      "Successfully built panda\n",
      "Installing collected packages: panda\n",
      "Successfully installed panda-0.3.1\n"
     ]
    }
   ],
   "source": []
  },
  {
   "cell_type": "code",
   "execution_count": 4,
   "id": "9367c6ac",
   "metadata": {
    "ExecuteTime": {
     "end_time": "2023-02-03T13:34:57.112759Z",
     "start_time": "2023-02-03T13:34:56.491615Z"
    }
   },
   "outputs": [],
   "source": [
    "import numpy as np\n",
    "import pandas as pd"
   ]
  },
  {
   "cell_type": "code",
   "execution_count": 71,
   "id": "9f844da1",
   "metadata": {
    "ExecuteTime": {
     "end_time": "2023-02-03T14:52:05.483040Z",
     "start_time": "2023-02-03T14:52:05.438681Z"
    }
   },
   "outputs": [],
   "source": [
    "grid=np.array([\n",
    "    [0,0,0,0,0,0,0,0,0,0,0,0,0,0,0,0,0,0,0,0,14,14,10,10,0,0,0],\n",
    "    [0,0,0,0,0,0,27,27,0,0,0,0,0,0,0,0,0,0,0,14,14,14,14,10,10,10,10],\n",
    "    [0,0,0,0,0,27,27,27,27,0,0,0,0,0,0,0,0,0,0,14,14,14,14,10,10,10,10],\n",
    "    [0,0,0,27,27,27,27,27,27,27,0,0,0,0,0,0,0,14,14,14,14,14,14,17,17,10,10],\n",
    "    [27,27,27,27,27,27,27,27,27,27,27,0,0,0,0,0,0,14,14,14,14,14,14,14,17,17,17],\n",
    "    [27,27,27,27,27,27,27,27,27,27,5,5,14,14,14,14,14,14,14,14,2,2,18,18,18,0,0],\n",
    "    [27,27,27,27,27,27,27,27,27,20,20,5,5,5,5,14,14,24,24,2,2,2,2,18,0,0,0],\n",
    "    [0,27,27,27,27,26,26,26,20,20,20,20,20,20,5,5,19,21,24,24,22,22,22,22,0,0,0],\n",
    "    [0,26,26,26,26,26,26,26,20,20,20,20,20,5,5,5,21,21,11,11,11,1,1,15,0,0,0],\n",
    "    [0,26,26,26,26,26,26,26,26,26,20,20,20,20,5,21,21,25,12,12,11,16,1,15,0,0,0],\n",
    "    [0,0,0,26,26,26,26,26,26,26,26,20,20,20,25,25,25,25,12,12,12,16,23,23,0,0,0],\n",
    "    [0,0,0,0,26,26,26,26,26,26,26,25,25,25,25,3,3,8,13,13,16,16,4,23,0,0,0],\n",
    "    [0,0,0,0,0,0,0,0,0,0,28,28,25,25,25,8,8,8,13,13,13,4,4,0,0,0,0],\n",
    "    [0,0,0,0,0,0,0,0,0,0,28,28,25,28,28,28,7,7,7,7,6,6,0,0,0,0,0],\n",
    "    [0,0,0,0,0,0,0,0,0,0,0,28,28,28,28,7,7,6,6,6,0,0,0,0,0,0,0],\n",
    "    [0,0,0,0,0,0,0,0,0,0,0,0,0,0,0,0,0,9,0,0,0,0,0,0,0,0,0,]\n",
    "])\n",
    "days=40\n",
    "infected=pd.read_csv('data/time_series_covid19_confirmed_global.csv',usecols=range(4+days))\n",
    "infected=infected[infected['Country/Region']=='China']\n",
    "regions=pd.read_csv('data/regions.csv')\n",
    "alpha,beta,gamma=0.21,1.4,1/5.1"
   ]
  },
  {
   "cell_type": "code",
   "execution_count": 72,
   "id": "5750fe19",
   "metadata": {
    "ExecuteTime": {
     "end_time": "2023-02-03T14:52:11.148537Z",
     "start_time": "2023-02-03T14:52:06.651259Z"
    }
   },
   "outputs": [],
   "source": [
    "ca_infected=[]\n",
    "for i in range(days):\n",
    "    aux=np.zeros((grid.shape[0],grid.shape[1]))\n",
    "    for j in range(grid.shape[0]):\n",
    "        for k in range(grid.shape[1]):\n",
    "            if grid[j][k]!=0:\n",
    "                region=regions[regions['ID']==grid[10,4]].values[0]\n",
    "                aux[j][k]=(infected[infected['Province/State']==region[1]].values[0])[i+4]/region[2]\n",
    "    ca_infected.append(aux)\n",
    "delta_i=[]\n",
    "p=[]\n",
    "for i in range(1,len(ca_infected)):\n",
    "    aux=ca_infected[i]-ca_infected[i-1]\n",
    "    delta_i.append(aux)\n",
    "for i in range(1,len(ca_infected)):\n",
    "    aux=np.zeros((grid.shape[0],grid.shape[1],6))\n",
    "    current_day=ca_infected[i-1]\n",
    "    for j in range(grid.shape[0]):\n",
    "        for k in range(grid.shape[1]):\n",
    "            if j==0:\n",
    "                if k==0:\n",
    "                    current_cell=np.array([1,current_day[j][k],0,current_day[j][k+1],current_day[j+1][k],0])\n",
    "                    aux[j][k]=np.concatenate((current_cell[:1],current_cell[1:]*(beta-gamma-alpha)))\n",
    "                elif k==grid.shape[1]-1:\n",
    "                    current_cell=np.array([1,current_day[j][k],0,0,current_day[j+1][k],current_day[j][k-1]])\n",
    "                    aux[j][k]=np.concatenate((current_cell[:1],current_cell[1:]*(beta-gamma-alpha)))\n",
    "                else:\n",
    "                    current_cell=np.array([1,current_day[j][k],0,current_day[j][k+1],current_day[j+1][k],current_day[j][k-1]])\n",
    "                    aux[j][k]=np.concatenate((current_cell[:1],current_cell[1:]*(beta-gamma-alpha)))\n",
    "            elif j==grid.shape[0]-1:\n",
    "                if k==0:\n",
    "                    current_cell=np.array([1,current_day[j][k],current_day[j-1][k],current_day[j][k+1],0,0])\n",
    "                    aux[j][k]=np.concatenate((current_cell[:1],current_cell[1:]*(beta-gamma-alpha)))\n",
    "                elif k==grid.shape[1]-1:\n",
    "                    current_cell=np.array([1,current_day[j][k],current_day[j-1][k],0,0,current_day[j][k-1]])\n",
    "                    aux[j][k]=np.concatenate((current_cell[:1],current_cell[1:]*(beta-gamma-alpha)))\n",
    "                else:\n",
    "                    current_cell=np.array([1,current_day[j][k],current_day[j-1][k],current_day[j][k+1],0,current_day[j][k-1]])\n",
    "                    aux[j][k]=np.concatenate((current_cell[:1],current_cell[1:]*(beta-gamma-alpha)))\n",
    "            elif k==0:\n",
    "                current_cell=np.array([1,current_day[j][k],current_day[j-1][k],current_day[j][k+1],current_day[j+1][k],0])\n",
    "                aux[j][k]=np.concatenate((current_cell[:1],current_cell[1:]*(beta-gamma-alpha)))\n",
    "            elif k==grid.shape[1]-1:\n",
    "                current_cell=np.array([1,current_day[j][k],current_day[j-1][k],0,current_day[j+1][k],current_day[j][k-1]])\n",
    "                aux[j][k]=np.concatenate((current_cell[:1],x[1:]*(beta-gamma-alpha)))\n",
    "    p.append(aux)"
   ]
  },
  {
   "cell_type": "code",
   "execution_count": null,
   "id": "9ae92c02",
   "metadata": {},
   "outputs": [],
   "source": []
  }
 ],
 "metadata": {
  "kernelspec": {
   "display_name": "Python 3 (ipykernel)",
   "language": "python",
   "name": "python3"
  },
  "language_info": {
   "codemirror_mode": {
    "name": "ipython",
    "version": 3
   },
   "file_extension": ".py",
   "mimetype": "text/x-python",
   "name": "python",
   "nbconvert_exporter": "python",
   "pygments_lexer": "ipython3",
   "version": "3.9.13"
  },
  "toc": {
   "base_numbering": 1,
   "nav_menu": {},
   "number_sections": true,
   "sideBar": true,
   "skip_h1_title": false,
   "title_cell": "Table of Contents",
   "title_sidebar": "Contents",
   "toc_cell": false,
   "toc_position": {},
   "toc_section_display": true,
   "toc_window_display": false
  },
  "varInspector": {
   "cols": {
    "lenName": 16,
    "lenType": 16,
    "lenVar": 40
   },
   "kernels_config": {
    "python": {
     "delete_cmd_postfix": "",
     "delete_cmd_prefix": "del ",
     "library": "var_list.py",
     "varRefreshCmd": "print(var_dic_list())"
    },
    "r": {
     "delete_cmd_postfix": ") ",
     "delete_cmd_prefix": "rm(",
     "library": "var_list.r",
     "varRefreshCmd": "cat(var_dic_list()) "
    }
   },
   "types_to_exclude": [
    "module",
    "function",
    "builtin_function_or_method",
    "instance",
    "_Feature"
   ],
   "window_display": false
  }
 },
 "nbformat": 4,
 "nbformat_minor": 5
}
