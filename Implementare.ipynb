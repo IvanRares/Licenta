{
 "cells": [
  {
   "cell_type": "code",
   "execution_count": 2,
   "id": "f74138de",
   "metadata": {
    "ExecuteTime": {
     "end_time": "2023-02-03T13:32:19.733656Z",
     "start_time": "2023-02-03T13:32:12.569294Z"
    }
   },
   "outputs": [
    {
     "name": "stdout",
     "output_type": "stream",
     "text": [
      "Collecting panda\n",
      "  Downloading panda-0.3.1.tar.gz (5.8 kB)\n",
      "  Preparing metadata (setup.py): started\n",
      "  Preparing metadata (setup.py): finished with status 'done'\n",
      "Requirement already satisfied: setuptools in c:\\users\\roman\\anaconda3\\lib\\site-packages (from panda) (63.4.1)\n",
      "Requirement already satisfied: requests in c:\\users\\roman\\anaconda3\\lib\\site-packages (from panda) (2.28.1)\n",
      "Requirement already satisfied: charset-normalizer<3,>=2 in c:\\users\\roman\\anaconda3\\lib\\site-packages (from requests->panda) (2.0.4)\n",
      "Requirement already satisfied: urllib3<1.27,>=1.21.1 in c:\\users\\roman\\anaconda3\\lib\\site-packages (from requests->panda) (1.26.11)\n",
      "Requirement already satisfied: idna<4,>=2.5 in c:\\users\\roman\\anaconda3\\lib\\site-packages (from requests->panda) (3.3)\n",
      "Requirement already satisfied: certifi>=2017.4.17 in c:\\users\\roman\\anaconda3\\lib\\site-packages (from requests->panda) (2022.9.14)\n",
      "Building wheels for collected packages: panda\n",
      "  Building wheel for panda (setup.py): started\n",
      "  Building wheel for panda (setup.py): finished with status 'done'\n",
      "  Created wheel for panda: filename=panda-0.3.1-py3-none-any.whl size=7238 sha256=8b90c6cfc38109363762f3a939889182eb912b80120f8477d9fb5848f41d84b6\n",
      "  Stored in directory: c:\\users\\roman\\appdata\\local\\pip\\cache\\wheels\\6c\\5a\\a9\\a28c87238ddcc61701224f538bedccc21c9e2b8bc6fa8fca0e\n",
      "Successfully built panda\n",
      "Installing collected packages: panda\n",
      "Successfully installed panda-0.3.1\n"
     ]
    }
   ],
   "source": []
  },
  {
   "cell_type": "code",
   "execution_count": 155,
   "id": "12e0f8bc",
   "metadata": {
    "ExecuteTime": {
     "end_time": "2023-02-03T15:57:46.216020Z",
     "start_time": "2023-02-03T15:57:44.450037Z"
    }
   },
   "outputs": [],
   "source": [
    "import numpy as np\n",
    "import pandas as pd\n",
    "import matplotlib.pyplot as plt\n",
    "import seaborn as sns"
   ]
  },
  {
   "cell_type": "code",
   "execution_count": 207,
   "id": "6fc8c8fb",
   "metadata": {
    "ExecuteTime": {
     "end_time": "2023-02-03T18:15:18.690183Z",
     "start_time": "2023-02-03T18:15:18.660170Z"
    }
   },
   "outputs": [],
   "source": [
    "grid=np.array([\n",
    "    [0,0,0,0,0,0,0,0,0,0,0,0,0,0,0,0,0,0,0,0,14,14,10,10,0,0,0],\n",
    "    [0,0,0,0,0,0,27,27,0,0,0,0,0,0,0,0,0,0,0,14,14,14,14,10,10,10,10],\n",
    "    [0,0,0,0,0,27,27,27,27,0,0,0,0,0,0,0,0,0,0,14,14,14,14,10,10,10,10],\n",
    "    [0,0,0,27,27,27,27,27,27,27,0,0,0,0,0,0,0,14,14,14,14,14,14,17,17,10,10],\n",
    "    [27,27,27,27,27,27,27,27,27,27,27,0,0,0,0,0,0,14,14,14,14,14,14,14,17,17,17],\n",
    "    [27,27,27,27,27,27,27,27,27,27,5,5,14,14,14,14,14,14,14,14,2,2,18,18,18,0,0],\n",
    "    [27,27,27,27,27,27,27,27,27,20,20,5,5,5,5,14,14,24,24,2,2,2,2,18,0,0,0],\n",
    "    [0,27,27,27,27,26,26,26,20,20,20,20,20,20,5,5,19,21,24,24,22,22,22,22,0,0,0],\n",
    "    [0,26,26,26,26,26,26,26,20,20,20,20,20,5,5,5,21,21,11,11,11,1,1,15,0,0,0],\n",
    "    [0,26,26,26,26,26,26,26,26,26,20,20,20,20,5,21,21,25,12,12,11,16,1,15,0,0,0],\n",
    "    [0,0,0,26,26,26,26,26,26,26,26,20,20,20,25,25,25,25,12,12,12,16,23,23,0,0,0],\n",
    "    [0,0,0,0,26,26,26,26,26,26,26,25,25,25,25,3,3,8,13,13,16,16,4,23,0,0,0],\n",
    "    [0,0,0,0,0,0,0,0,0,0,28,28,25,25,25,8,8,8,13,13,13,4,4,0,0,0,0],\n",
    "    [0,0,0,0,0,0,0,0,0,0,28,28,25,28,28,28,7,7,7,7,6,6,0,0,0,0,0],\n",
    "    [0,0,0,0,0,0,0,0,0,0,0,28,28,28,28,7,7,6,6,6,0,0,0,0,0,0,0],\n",
    "    [0,0,0,0,0,0,0,0,0,0,0,0,0,0,0,0,0,9,0,0,0,0,0,0,0,0,0,]\n",
    "])\n",
    "days=40\n",
    "infected=pd.read_csv('data/time_series_covid19_confirmed_global.csv',usecols=range(4+days))\n",
    "infected=infected[infected['Country/Region']=='China']\n",
    "regions=pd.read_csv('data/regions.csv')\n",
    "alpha,beta,gamma=0.21,1.4,1/5.1"
   ]
  },
  {
   "cell_type": "code",
   "execution_count": 218,
   "id": "142efba7",
   "metadata": {
    "ExecuteTime": {
     "end_time": "2023-02-03T18:22:54.174232Z",
     "start_time": "2023-02-03T18:22:53.426017Z"
    }
   },
   "outputs": [
    {
     "data": {
      "image/png": "[encoded data removed]",
      "text/plain": [
       "<Figure size 500x500 with 1 Axes>"
      ]
     },
     "metadata": {},
     "output_type": "display_data"
    }
   ],
   "source": [
    "df = pd.DataFrame(grid)\n",
    "\n",
    "cmap = sns.diverging_palette(0, 250, as_cmap=True)\n",
    "color_map = cmap.from_list(\"\", [(0, \"lightblue\"), (1, \"white\")], N=2)\n",
    "\n",
    "f, ax = plt.subplots(figsize=(5, 5))\n",
    "plt.pcolormesh(df, cmap=color_map, vmin=0,vmax=1)\n",
    "\n",
    "for i in range(df.shape[0]):\n",
    "    for j in range(df.shape[1]):\n",
    "        if j < df.shape[1] - 1 and df.iloc[i, j] != df.iloc[i, j + 1]:\n",
    "            plt.plot([j + 1, j + 1], [i, i + 1], color=\"black\", linewidth=3)\n",
    "        elif j < df.shape[1] - 1:\n",
    "            plt.plot([j + 1, j + 1], [i, i + 1], color=\"gray\", linewidth=1)\n",
    "        if i < df.shape[0] - 1 and df.iloc[i, j] != df.iloc[i + 1, j]:\n",
    "            plt.plot([j, j + 1], [i + 1, i + 1], color=\"black\", linewidth=3)\n",
    "        elif i < df.shape[0] - 1:\n",
    "            plt.plot([j, j + 1], [i + 1, i + 1], color=\"gray\", linewidth=1)\n",
    "            \n",
    "plt.gca().invert_yaxis()\n",
    "# Show the plot\n",
    "plt.show()\n"
   ]
  },
  {
   "cell_type": "code",
   "execution_count": 154,
   "id": "bb609e48",
   "metadata": {
    "ExecuteTime": {
     "end_time": "2023-02-03T15:49:17.474251Z",
     "start_time": "2023-02-03T15:49:15.955853Z"
    }
   },
   "outputs": [],
   "source": [
    "ca_infected = np.zeros((days, grid.shape[0], grid.shape[1]))\n",
    "region_population = regions[['ID', 'Cell Count']].set_index('ID').to_dict()['Cell Count']\n",
    "for i in range(days):\n",
    "    col_name=infected.columns[i+4]\n",
    "    region_cases = infected[['Province/State', col_name]].set_index('Province/State').to_dict()[col_name]\n",
    "    for j in range(grid.shape[0]):\n",
    "        for k in range(grid.shape[1]):\n",
    "            if grid[j, k] != 0:\n",
    "                region_id = grid[j, k]\n",
    "                cell_count = region_population[region_id]\n",
    "                region_name = regions.loc[regions['ID'] == region_id, 'Region'].iloc[0]\n",
    "                cases = 0\n",
    "                if ',' in region_name:\n",
    "                    region_list = region_name.split(',')\n",
    "                    for sub_region in region_list:\n",
    "                        sub_region = sub_region.strip()\n",
    "                        cases += region_cases.get(sub_region, 0)\n",
    "                else:\n",
    "                    cases = region_cases.get(region_name, 0)\n",
    "                ca_infected[i, j, k] = cases / cell_count\n",
    "\n",
    "delta_i = np.diff(ca_infected, axis=0)\n",
    "\n",
    "p = np.zeros((len(ca_infected) - 1, grid.shape[0], grid.shape[1], 6))\n",
    "for i in range(1, len(ca_infected)):\n",
    "    current_day = ca_infected[i - 1]\n",
    "    north = np.zeros_like(current_day)\n",
    "    north[1:] = current_day[:-1]\n",
    "    south = np.zeros_like(current_day)\n",
    "    south[:-1] = current_day[1:]\n",
    "    east = np.zeros_like(current_day)\n",
    "    east[:, 1:] = current_day[:, :-1]\n",
    "    west = np.zeros_like(current_day)\n",
    "    west[:, :-1] = current_day[:, 1:]\n",
    "    current_cell = np.stack([np.ones_like(current_day), current_day, north, east, south, west], axis=-1)\n",
    "    p[i - 1] = np.concatenate((current_cell[..., :1], current_cell[..., 1:] * (beta - gamma - alpha)), axis=-1)\n"
   ]
  },
  {
   "cell_type": "code",
   "execution_count": null,
   "id": "af5ead25",
   "metadata": {},
   "outputs": [],
   "source": []
  }
 ],
 "metadata": {
  "kernelspec": {
   "display_name": "Python 3 (ipykernel)",
   "language": "python",
   "name": "python3"
  },
  "language_info": {
   "codemirror_mode": {
    "name": "ipython",
    "version": 3
   },
   "file_extension": ".py",
   "mimetype": "text/x-python",
   "name": "python",
   "nbconvert_exporter": "python",
   "pygments_lexer": "ipython3",
   "version": "3.9.13"
  },
  "toc": {
   "base_numbering": 1,
   "nav_menu": {},
   "number_sections": true,
   "sideBar": true,
   "skip_h1_title": false,
   "title_cell": "Table of Contents",
   "title_sidebar": "Contents",
   "toc_cell": false,
   "toc_position": {},
   "toc_section_display": true,
   "toc_window_display": false
  },
  "varInspector": {
   "cols": {
    "lenName": 16,
    "lenType": 16,
    "lenVar": 40
   },
   "kernels_config": {
    "python": {
     "delete_cmd_postfix": "",
     "delete_cmd_prefix": "del ",
     "library": "var_list.py",
     "varRefreshCmd": "print(var_dic_list())"
    },
    "r": {
     "delete_cmd_postfix": ") ",
     "delete_cmd_prefix": "rm(",
     "library": "var_list.r",
     "varRefreshCmd": "cat(var_dic_list()) "
    }
   },
   "types_to_exclude": [
    "module",
    "function",
    "builtin_function_or_method",
    "instance",
    "_Feature"
   ],
   "window_display": false
  }
 },
 "nbformat": 4,
 "nbformat_minor": 5
}
